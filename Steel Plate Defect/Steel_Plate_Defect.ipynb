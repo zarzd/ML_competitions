{
 "cells": [
  {
   "cell_type": "raw",
   "source": [
    "https://www.kaggle.com/competitions/playground-series-s4e3/overview"
   ],
   "metadata": {
    "collapsed": false
   },
   "id": "d27d9028fd763e82"
  },
  {
   "cell_type": "code",
   "outputs": [],
   "source": [
    "import pandas as pd\n",
    "import numpy as np\n",
    "import seaborn as sns\n",
    "import matplotlib.pyplot as plt\n",
    "from xgboost import XGBClassifier\n",
    "from sklearn.model_selection import train_test_split, GridSearchCV, cross_val_score\n",
    "from sklearn.preprocessing import StandardScaler\n",
    "from sklearn.multiclass import OneVsRestClassifier"
   ],
   "metadata": {
    "collapsed": false,
    "ExecuteTime": {
     "end_time": "2024-04-07T10:41:17.821732Z",
     "start_time": "2024-04-07T10:41:17.649585Z"
    }
   },
   "id": "1a0ad51642102c4b",
   "execution_count": 1
  },
  {
   "cell_type": "code",
   "outputs": [
    {
     "data": {
      "text/plain": "   id  X_Minimum  X_Maximum  Y_Minimum  Y_Maximum  Pixels_Areas  X_Perimeter  \\\n0   0        584        590     909972     909977            16            8   \n1   1        808        816     728350     728372           433           20   \n2   2         39        192    2212076    2212144         11388          705   \n3   3        781        789    3353146    3353173           210           16   \n4   4       1540       1560     618457     618502           521           72   \n\n   Y_Perimeter  Sum_of_Luminosity  Minimum_of_Luminosity  ...  \\\n0            5               2274                    113  ...   \n1           54              44478                     70  ...   \n2          420            1311391                     29  ...   \n3           29               3202                    114  ...   \n4           67              48231                     82  ...   \n\n   Outside_X_Index  Edges_X_Index  Edges_Y_Index  Outside_Global_Index  \\\n0           0.0059         1.0000         1.0000                   0.0   \n1           0.0044         0.2500         1.0000                   1.0   \n2           0.1077         0.2363         0.3857                   0.0   \n3           0.0044         0.3750         0.9310                   1.0   \n4           0.0192         0.2105         0.9861                   1.0   \n\n   LogOfAreas  Log_X_Index  Log_Y_Index  Orientation_Index  Luminosity_Index  \\\n0      1.2041       0.9031       0.6990            -0.5000           -0.0104   \n1      2.6365       0.7782       1.7324             0.7419           -0.2997   \n2      4.0564       2.1790       2.2095            -0.0105           -0.0944   \n3      2.3222       0.7782       1.4314             0.6667           -0.0402   \n4      2.7694       1.4150       1.8808             0.9158           -0.2455   \n\n   SigmoidOfAreas  \n0          0.1417  \n1          0.9491  \n2          1.0000  \n3          0.4025  \n4          0.9998  \n\n[5 rows x 28 columns]",
      "text/html": "<div>\n<style scoped>\n    .dataframe tbody tr th:only-of-type {\n        vertical-align: middle;\n    }\n\n    .dataframe tbody tr th {\n        vertical-align: top;\n    }\n\n    .dataframe thead th {\n        text-align: right;\n    }\n</style>\n<table border=\"1\" class=\"dataframe\">\n  <thead>\n    <tr style=\"text-align: right;\">\n      <th></th>\n      <th>id</th>\n      <th>X_Minimum</th>\n      <th>X_Maximum</th>\n      <th>Y_Minimum</th>\n      <th>Y_Maximum</th>\n      <th>Pixels_Areas</th>\n      <th>X_Perimeter</th>\n      <th>Y_Perimeter</th>\n      <th>Sum_of_Luminosity</th>\n      <th>Minimum_of_Luminosity</th>\n      <th>...</th>\n      <th>Outside_X_Index</th>\n      <th>Edges_X_Index</th>\n      <th>Edges_Y_Index</th>\n      <th>Outside_Global_Index</th>\n      <th>LogOfAreas</th>\n      <th>Log_X_Index</th>\n      <th>Log_Y_Index</th>\n      <th>Orientation_Index</th>\n      <th>Luminosity_Index</th>\n      <th>SigmoidOfAreas</th>\n    </tr>\n  </thead>\n  <tbody>\n    <tr>\n      <th>0</th>\n      <td>0</td>\n      <td>584</td>\n      <td>590</td>\n      <td>909972</td>\n      <td>909977</td>\n      <td>16</td>\n      <td>8</td>\n      <td>5</td>\n      <td>2274</td>\n      <td>113</td>\n      <td>...</td>\n      <td>0.0059</td>\n      <td>1.0000</td>\n      <td>1.0000</td>\n      <td>0.0</td>\n      <td>1.2041</td>\n      <td>0.9031</td>\n      <td>0.6990</td>\n      <td>-0.5000</td>\n      <td>-0.0104</td>\n      <td>0.1417</td>\n    </tr>\n    <tr>\n      <th>1</th>\n      <td>1</td>\n      <td>808</td>\n      <td>816</td>\n      <td>728350</td>\n      <td>728372</td>\n      <td>433</td>\n      <td>20</td>\n      <td>54</td>\n      <td>44478</td>\n      <td>70</td>\n      <td>...</td>\n      <td>0.0044</td>\n      <td>0.2500</td>\n      <td>1.0000</td>\n      <td>1.0</td>\n      <td>2.6365</td>\n      <td>0.7782</td>\n      <td>1.7324</td>\n      <td>0.7419</td>\n      <td>-0.2997</td>\n      <td>0.9491</td>\n    </tr>\n    <tr>\n      <th>2</th>\n      <td>2</td>\n      <td>39</td>\n      <td>192</td>\n      <td>2212076</td>\n      <td>2212144</td>\n      <td>11388</td>\n      <td>705</td>\n      <td>420</td>\n      <td>1311391</td>\n      <td>29</td>\n      <td>...</td>\n      <td>0.1077</td>\n      <td>0.2363</td>\n      <td>0.3857</td>\n      <td>0.0</td>\n      <td>4.0564</td>\n      <td>2.1790</td>\n      <td>2.2095</td>\n      <td>-0.0105</td>\n      <td>-0.0944</td>\n      <td>1.0000</td>\n    </tr>\n    <tr>\n      <th>3</th>\n      <td>3</td>\n      <td>781</td>\n      <td>789</td>\n      <td>3353146</td>\n      <td>3353173</td>\n      <td>210</td>\n      <td>16</td>\n      <td>29</td>\n      <td>3202</td>\n      <td>114</td>\n      <td>...</td>\n      <td>0.0044</td>\n      <td>0.3750</td>\n      <td>0.9310</td>\n      <td>1.0</td>\n      <td>2.3222</td>\n      <td>0.7782</td>\n      <td>1.4314</td>\n      <td>0.6667</td>\n      <td>-0.0402</td>\n      <td>0.4025</td>\n    </tr>\n    <tr>\n      <th>4</th>\n      <td>4</td>\n      <td>1540</td>\n      <td>1560</td>\n      <td>618457</td>\n      <td>618502</td>\n      <td>521</td>\n      <td>72</td>\n      <td>67</td>\n      <td>48231</td>\n      <td>82</td>\n      <td>...</td>\n      <td>0.0192</td>\n      <td>0.2105</td>\n      <td>0.9861</td>\n      <td>1.0</td>\n      <td>2.7694</td>\n      <td>1.4150</td>\n      <td>1.8808</td>\n      <td>0.9158</td>\n      <td>-0.2455</td>\n      <td>0.9998</td>\n    </tr>\n  </tbody>\n</table>\n<p>5 rows × 28 columns</p>\n</div>"
     },
     "execution_count": 2,
     "metadata": {},
     "output_type": "execute_result"
    }
   ],
   "source": [
    "train_data = pd.read_csv('data/train.csv')\n",
    "test_data = pd.read_csv('data/test.csv')\n",
    "target = [\"Pastry\", \"Z_Scratch\", \"K_Scatch\", \"Stains\", \"Dirtiness\", \"Bumps\", \"Other_Faults\"]\n",
    "y = train_data[target]\n",
    "train_data = train_data.drop(target, axis=1)\n",
    "train_data.head()"
   ],
   "metadata": {
    "collapsed": false,
    "ExecuteTime": {
     "end_time": "2024-04-07T10:41:17.918650Z",
     "start_time": "2024-04-07T10:41:17.822345Z"
    }
   },
   "id": "33906e540340f748",
   "execution_count": 2
  },
  {
   "cell_type": "code",
   "outputs": [
    {
     "data": {
      "text/plain": "id                       0\nX_Minimum                0\nX_Maximum                0\nY_Minimum                0\nY_Maximum                0\nPixels_Areas             0\nX_Perimeter              0\nY_Perimeter              0\nSum_of_Luminosity        0\nMinimum_of_Luminosity    0\nMaximum_of_Luminosity    0\nLength_of_Conveyer       0\nTypeOfSteel_A300         0\nTypeOfSteel_A400         0\nSteel_Plate_Thickness    0\nEdges_Index              0\nEmpty_Index              0\nSquare_Index             0\nOutside_X_Index          0\nEdges_X_Index            0\nEdges_Y_Index            0\nOutside_Global_Index     0\nLogOfAreas               0\nLog_X_Index              0\nLog_Y_Index              0\nOrientation_Index        0\nLuminosity_Index         0\nSigmoidOfAreas           0\ndtype: int64"
     },
     "execution_count": 3,
     "metadata": {},
     "output_type": "execute_result"
    }
   ],
   "source": [
    "train_data.isnull().sum()"
   ],
   "metadata": {
    "collapsed": false,
    "ExecuteTime": {
     "end_time": "2024-04-07T10:41:17.925642Z",
     "start_time": "2024-04-07T10:41:17.919768Z"
    }
   },
   "id": "347a36006be4f56a",
   "execution_count": 3
  },
  {
   "cell_type": "code",
   "outputs": [
    {
     "name": "stdout",
     "output_type": "stream",
     "text": [
      "<class 'pandas.core.frame.DataFrame'>\n",
      "RangeIndex: 19219 entries, 0 to 19218\n",
      "Data columns (total 28 columns):\n",
      " #   Column                 Non-Null Count  Dtype  \n",
      "---  ------                 --------------  -----  \n",
      " 0   id                     19219 non-null  int64  \n",
      " 1   X_Minimum              19219 non-null  int64  \n",
      " 2   X_Maximum              19219 non-null  int64  \n",
      " 3   Y_Minimum              19219 non-null  int64  \n",
      " 4   Y_Maximum              19219 non-null  int64  \n",
      " 5   Pixels_Areas           19219 non-null  int64  \n",
      " 6   X_Perimeter            19219 non-null  int64  \n",
      " 7   Y_Perimeter            19219 non-null  int64  \n",
      " 8   Sum_of_Luminosity      19219 non-null  int64  \n",
      " 9   Minimum_of_Luminosity  19219 non-null  int64  \n",
      " 10  Maximum_of_Luminosity  19219 non-null  int64  \n",
      " 11  Length_of_Conveyer     19219 non-null  int64  \n",
      " 12  TypeOfSteel_A300       19219 non-null  int64  \n",
      " 13  TypeOfSteel_A400       19219 non-null  int64  \n",
      " 14  Steel_Plate_Thickness  19219 non-null  int64  \n",
      " 15  Edges_Index            19219 non-null  float64\n",
      " 16  Empty_Index            19219 non-null  float64\n",
      " 17  Square_Index           19219 non-null  float64\n",
      " 18  Outside_X_Index        19219 non-null  float64\n",
      " 19  Edges_X_Index          19219 non-null  float64\n",
      " 20  Edges_Y_Index          19219 non-null  float64\n",
      " 21  Outside_Global_Index   19219 non-null  float64\n",
      " 22  LogOfAreas             19219 non-null  float64\n",
      " 23  Log_X_Index            19219 non-null  float64\n",
      " 24  Log_Y_Index            19219 non-null  float64\n",
      " 25  Orientation_Index      19219 non-null  float64\n",
      " 26  Luminosity_Index       19219 non-null  float64\n",
      " 27  SigmoidOfAreas         19219 non-null  float64\n",
      "dtypes: float64(13), int64(15)\n",
      "memory usage: 4.1 MB\n"
     ]
    }
   ],
   "source": [
    "train_data.info()"
   ],
   "metadata": {
    "collapsed": false,
    "ExecuteTime": {
     "end_time": "2024-04-07T10:41:17.950794Z",
     "start_time": "2024-04-07T10:41:17.926648Z"
    }
   },
   "id": "6c9743625aca77b4",
   "execution_count": 4
  },
  {
   "cell_type": "code",
   "outputs": [],
   "source": [
    "train_data[\"X_range\"] = train_data[\"X_Maximum\"] - train_data[\"X_Minimum\"]\n",
    "test_data[\"X_range\"] = test_data[\"X_Maximum\"] - test_data[\"X_Minimum\"]\n",
    "train_data[\"Y_range\"] = train_data[\"Y_Maximum\"] - train_data[\"Y_Minimum\"]\n",
    "test_data[\"Y_range\"] = test_data[\"Y_Maximum\"] - test_data[\"Y_Minimum\"]\n",
    "\n",
    "train_data['Area_Perimeter_Ratio'] = train_data[\"Pixels_Areas\"] / (\n",
    "        train_data[\"X_Perimeter\"] + train_data[\"Y_Perimeter\"])\n",
    "test_data['Area_Perimeter_Ratio'] = test_data[\"Pixels_Areas\"] / (test_data[\"X_Perimeter\"] + test_data[\"Y_Perimeter\"])\n",
    "\n",
    "train_data['Luminosity_Range'] = (train_data['Maximum_of_Luminosity'] - train_data['Minimum_of_Luminosity'])\n",
    "test_data['Luminosity_Range'] = (test_data['Maximum_of_Luminosity'] - test_data['Minimum_of_Luminosity'])\n",
    "\n"
   ],
   "metadata": {
    "collapsed": false,
    "ExecuteTime": {
     "end_time": "2024-04-07T10:41:17.958517Z",
     "start_time": "2024-04-07T10:41:17.951812Z"
    }
   },
   "id": "496c4e2c9f77a713",
   "execution_count": 5
  },
  {
   "cell_type": "code",
   "outputs": [
    {
     "data": {
      "text/plain": "   id  X_Minimum  X_Maximum  Y_Minimum  Y_Maximum  Pixels_Areas  X_Perimeter  \\\n0   0        584        590     909972     909977            16            8   \n1   1        808        816     728350     728372           433           20   \n2   2         39        192    2212076    2212144         11388          705   \n3   3        781        789    3353146    3353173           210           16   \n4   4       1540       1560     618457     618502           521           72   \n\n   Y_Perimeter  Sum_of_Luminosity  Minimum_of_Luminosity  ...  LogOfAreas  \\\n0            5               2274                    113  ...      1.2041   \n1           54              44478                     70  ...      2.6365   \n2          420            1311391                     29  ...      4.0564   \n3           29               3202                    114  ...      2.3222   \n4           67              48231                     82  ...      2.7694   \n\n   Log_X_Index  Log_Y_Index  Orientation_Index  Luminosity_Index  \\\n0       0.9031       0.6990            -0.5000           -0.0104   \n1       0.7782       1.7324             0.7419           -0.2997   \n2       2.1790       2.2095            -0.0105           -0.0944   \n3       0.7782       1.4314             0.6667           -0.0402   \n4       1.4150       1.8808             0.9158           -0.2455   \n\n   SigmoidOfAreas  X_range  Y_range  Area_Perimeter_Ratio  Luminosity_Range  \n0          0.1417        6        5              1.230769                27  \n1          0.9491        8       22              5.851351                41  \n2          1.0000      153       68             10.122667               112  \n3          0.4025        8       27              4.666667                20  \n4          0.9998       20       45              3.748201                29  \n\n[5 rows x 32 columns]",
      "text/html": "<div>\n<style scoped>\n    .dataframe tbody tr th:only-of-type {\n        vertical-align: middle;\n    }\n\n    .dataframe tbody tr th {\n        vertical-align: top;\n    }\n\n    .dataframe thead th {\n        text-align: right;\n    }\n</style>\n<table border=\"1\" class=\"dataframe\">\n  <thead>\n    <tr style=\"text-align: right;\">\n      <th></th>\n      <th>id</th>\n      <th>X_Minimum</th>\n      <th>X_Maximum</th>\n      <th>Y_Minimum</th>\n      <th>Y_Maximum</th>\n      <th>Pixels_Areas</th>\n      <th>X_Perimeter</th>\n      <th>Y_Perimeter</th>\n      <th>Sum_of_Luminosity</th>\n      <th>Minimum_of_Luminosity</th>\n      <th>...</th>\n      <th>LogOfAreas</th>\n      <th>Log_X_Index</th>\n      <th>Log_Y_Index</th>\n      <th>Orientation_Index</th>\n      <th>Luminosity_Index</th>\n      <th>SigmoidOfAreas</th>\n      <th>X_range</th>\n      <th>Y_range</th>\n      <th>Area_Perimeter_Ratio</th>\n      <th>Luminosity_Range</th>\n    </tr>\n  </thead>\n  <tbody>\n    <tr>\n      <th>0</th>\n      <td>0</td>\n      <td>584</td>\n      <td>590</td>\n      <td>909972</td>\n      <td>909977</td>\n      <td>16</td>\n      <td>8</td>\n      <td>5</td>\n      <td>2274</td>\n      <td>113</td>\n      <td>...</td>\n      <td>1.2041</td>\n      <td>0.9031</td>\n      <td>0.6990</td>\n      <td>-0.5000</td>\n      <td>-0.0104</td>\n      <td>0.1417</td>\n      <td>6</td>\n      <td>5</td>\n      <td>1.230769</td>\n      <td>27</td>\n    </tr>\n    <tr>\n      <th>1</th>\n      <td>1</td>\n      <td>808</td>\n      <td>816</td>\n      <td>728350</td>\n      <td>728372</td>\n      <td>433</td>\n      <td>20</td>\n      <td>54</td>\n      <td>44478</td>\n      <td>70</td>\n      <td>...</td>\n      <td>2.6365</td>\n      <td>0.7782</td>\n      <td>1.7324</td>\n      <td>0.7419</td>\n      <td>-0.2997</td>\n      <td>0.9491</td>\n      <td>8</td>\n      <td>22</td>\n      <td>5.851351</td>\n      <td>41</td>\n    </tr>\n    <tr>\n      <th>2</th>\n      <td>2</td>\n      <td>39</td>\n      <td>192</td>\n      <td>2212076</td>\n      <td>2212144</td>\n      <td>11388</td>\n      <td>705</td>\n      <td>420</td>\n      <td>1311391</td>\n      <td>29</td>\n      <td>...</td>\n      <td>4.0564</td>\n      <td>2.1790</td>\n      <td>2.2095</td>\n      <td>-0.0105</td>\n      <td>-0.0944</td>\n      <td>1.0000</td>\n      <td>153</td>\n      <td>68</td>\n      <td>10.122667</td>\n      <td>112</td>\n    </tr>\n    <tr>\n      <th>3</th>\n      <td>3</td>\n      <td>781</td>\n      <td>789</td>\n      <td>3353146</td>\n      <td>3353173</td>\n      <td>210</td>\n      <td>16</td>\n      <td>29</td>\n      <td>3202</td>\n      <td>114</td>\n      <td>...</td>\n      <td>2.3222</td>\n      <td>0.7782</td>\n      <td>1.4314</td>\n      <td>0.6667</td>\n      <td>-0.0402</td>\n      <td>0.4025</td>\n      <td>8</td>\n      <td>27</td>\n      <td>4.666667</td>\n      <td>20</td>\n    </tr>\n    <tr>\n      <th>4</th>\n      <td>4</td>\n      <td>1540</td>\n      <td>1560</td>\n      <td>618457</td>\n      <td>618502</td>\n      <td>521</td>\n      <td>72</td>\n      <td>67</td>\n      <td>48231</td>\n      <td>82</td>\n      <td>...</td>\n      <td>2.7694</td>\n      <td>1.4150</td>\n      <td>1.8808</td>\n      <td>0.9158</td>\n      <td>-0.2455</td>\n      <td>0.9998</td>\n      <td>20</td>\n      <td>45</td>\n      <td>3.748201</td>\n      <td>29</td>\n    </tr>\n  </tbody>\n</table>\n<p>5 rows × 32 columns</p>\n</div>"
     },
     "execution_count": 6,
     "metadata": {},
     "output_type": "execute_result"
    }
   ],
   "source": [
    "train_data.head()"
   ],
   "metadata": {
    "collapsed": false,
    "ExecuteTime": {
     "end_time": "2024-04-07T10:41:17.970158Z",
     "start_time": "2024-04-07T10:41:17.959522Z"
    }
   },
   "id": "7fa4a4801ef9885b",
   "execution_count": 6
  },
  {
   "cell_type": "code",
   "outputs": [
    {
     "name": "stdout",
     "output_type": "stream",
     "text": [
      "[0.86485162 0.87031039 0.86711192 0.8685383  0.862307  ]\n"
     ]
    }
   ],
   "source": [
    "X = train_data.copy()\n",
    "scaler = StandardScaler()\n",
    "X = scaler.fit_transform(X)  \n",
    "xgb = XGBClassifier(n_estimators=300, max_depth=6, verbosity=0)\n",
    "clf = OneVsRestClassifier(xgb)\n",
    "score = cross_val_score(clf, X, y, cv=5, scoring=\"roc_auc_ovr\")\n",
    "print(score)\n"
   ],
   "metadata": {
    "collapsed": false,
    "ExecuteTime": {
     "end_time": "2024-04-07T10:41:34.616579Z",
     "start_time": "2024-04-07T10:41:17.970158Z"
    }
   },
   "id": "18551ae57f5b14f9",
   "execution_count": 7
  },
  {
   "cell_type": "code",
   "outputs": [
    {
     "data": {
      "text/plain": "'param_grid = {\\n    \\'estimator__n_estimators\\': [100, 200, 300],\\n    \\'estimator__max_depth\\': [3, 6, 9],\\n    \\'estimator__learning_rate\\': [0.01, 0.1, 0.2],\\n    \\'estimator__subsample\\': [0.8, 1.0],\\n    \\'estimator__colsample_bytree\\': [0.8, 1.0],\\n    \\'estimator__gamma\\': [0, 0.1, 0.2],\\n    \\'estimator__reg_alpha\\': [0, 0.1, 0.2],\\n    \\'estimator__reg_lambda\\': [0, 0.1, 0.2],\\n}\\n\\n# Create an XGBClassifier\\nxgb = XGBClassifier(verbosity=0)\\n\\n# Create a OneVsRestClassifier\\nclf = OneVsRestClassifier(xgb)\\n\\n# Create a GridSearchCV\\ngrid = GridSearchCV(estimator=clf, param_grid=param_grid, scoring=\"roc_auc\", cv=3, verbose=2, n_jobs=10)\\n\\n# Fit the GridSearchCV\\ngrid.fit(X, y)\\n\\n# Print the best parameters\\nprint(grid.best_params_)'"
     },
     "execution_count": 8,
     "metadata": {},
     "output_type": "execute_result"
    }
   ],
   "source": [
    "'''param_grid = {\n",
    "    'estimator__n_estimators': [100, 200, 300],\n",
    "    'estimator__max_depth': [3, 6, 9],\n",
    "    'estimator__learning_rate': [0.01, 0.1, 0.2],\n",
    "    'estimator__subsample': [0.8, 1.0],\n",
    "    'estimator__colsample_bytree': [0.8, 1.0],\n",
    "    'estimator__gamma': [0, 0.1, 0.2],\n",
    "    'estimator__reg_alpha': [0, 0.1, 0.2],\n",
    "    'estimator__reg_lambda': [0, 0.1, 0.2],\n",
    "}\n",
    "\n",
    "# Create an XGBClassifier\n",
    "xgb = XGBClassifier(verbosity=0)\n",
    "\n",
    "# Create a OneVsRestClassifier\n",
    "clf = OneVsRestClassifier(xgb)\n",
    "\n",
    "# Create a GridSearchCV\n",
    "grid = GridSearchCV(estimator=clf, param_grid=param_grid, scoring=\"roc_auc\", cv=3, verbose=2, n_jobs=10)\n",
    "\n",
    "# Fit the GridSearchCV\n",
    "grid.fit(X, y)\n",
    "\n",
    "# Print the best parameters\n",
    "print(grid.best_params_)'''"
   ],
   "metadata": {
    "collapsed": false,
    "ExecuteTime": {
     "end_time": "2024-04-07T10:41:34.620605Z",
     "start_time": "2024-04-07T10:41:34.616579Z"
    }
   },
   "id": "823e46bd9f3e967c",
   "execution_count": 8
  },
  {
   "cell_type": "code",
   "outputs": [
    {
     "name": "stdout",
     "output_type": "stream",
     "text": [
      "[0.8869331  0.89126686 0.88473382 0.89040977 0.88574903]\n"
     ]
    }
   ],
   "source": [
    " best_cls_params = {'grow_policy': 'depthwise',\n",
    "                    'n_estimators': 785,\n",
    "                    'learning_rate': 0.020726270353596147,\n",
    "                    'gamma': 0.13894214878891328,\n",
    "                    'subsample': 0.6931112900708679,\n",
    "                    'colsample_bytree': 0.5210477365658035,\n",
    "                    'max_depth': 3,\n",
    "                    'min_child_weight': 2,\n",
    "                    'reg_lambda': 5.369876648869387e-06,\n",
    "                    'reg_alpha': 8.428323563897863e-09}\n",
    "xgb = XGBClassifier(**best_cls_params)\n",
    "clf = OneVsRestClassifier(xgb)\n",
    "score = cross_val_score(clf, X, y, cv=5, scoring=\"roc_auc_ovr\")\n",
    "print(score)"
   ],
   "metadata": {
    "collapsed": false,
    "ExecuteTime": {
     "end_time": "2024-04-07T10:41:54.375501Z",
     "start_time": "2024-04-07T10:41:34.621609Z"
    }
   },
   "id": "e04e4bef4e3523c4",
   "execution_count": 9
  },
  {
   "cell_type": "code",
   "outputs": [
    {
     "data": {
      "text/plain": "0.8878185174472977"
     },
     "execution_count": 10,
     "metadata": {},
     "output_type": "execute_result"
    }
   ],
   "source": [
    "np.mean(score)"
   ],
   "metadata": {
    "collapsed": false,
    "ExecuteTime": {
     "end_time": "2024-04-07T10:41:54.379682Z",
     "start_time": "2024-04-07T10:41:54.376504Z"
    }
   },
   "id": "45519313fd46c1e",
   "execution_count": 10
  },
  {
   "cell_type": "code",
   "outputs": [
    {
     "name": "stdout",
     "output_type": "stream",
     "text": [
      "[[5.2001011e-01 5.8001874e-04 2.7838119e-03 ... 2.5342410e-02\n",
      "  1.4834325e-01 5.1841563e-01]\n",
      " [2.2203869e-01 1.2121021e-02 8.8221552e-03 ... 2.2649707e-01\n",
      "  1.2806138e-01 3.7941805e-01]\n",
      " [2.1594616e-03 3.4647740e-02 4.3529429e-02 ... 1.1907827e-02\n",
      "  2.6744342e-01 5.0725114e-01]\n",
      " ...\n",
      " [3.4989812e-04 5.9815746e-04 9.1534364e-01 ... 1.9070684e-03\n",
      "  6.7149312e-04 8.8298582e-02]\n",
      " [3.8732669e-01 8.2297130e-03 1.6319524e-02 ... 7.2407223e-02\n",
      "  1.4085139e-01 4.3508524e-01]\n",
      " [1.3691619e-03 4.7467584e-03 8.6935389e-01 ... 9.7407954e-04\n",
      "  8.6544064e-04 9.4340563e-02]]\n"
     ]
    },
    {
     "data": {
      "text/plain": "       id    Pastry  Z_Scratch  K_Scatch    Stains  Dirtiness     Bumps  \\\n0   19219  0.520010   0.000580  0.002784  0.000023   0.025342  0.148343   \n1   19220  0.222039   0.012121  0.008822  0.000152   0.226497  0.128061   \n2   19221  0.002159   0.034648  0.043529  0.000145   0.011908  0.267443   \n3   19222  0.219907   0.000724  0.000464  0.002410   0.029838  0.293024   \n4   19223  0.001741   0.000985  0.000859  0.006861   0.010060  0.588758   \n5   19224  0.102078   0.287856  0.003961  0.000029   0.020337  0.110730   \n6   19225  0.392781   0.000577  0.002281  0.000035   0.027709  0.062204   \n7   19226  0.012998   0.203038  0.005004  0.006750   0.057240  0.176735   \n8   19227  0.000553   0.195148  0.195336  0.001164   0.005901  0.129631   \n9   19228  0.320727   0.024617  0.000777  0.000027   0.002970  0.195897   \n10  19229  0.001315   0.026607  0.000676  0.002407   0.025791  0.288102   \n11  19230  0.000226   0.001507  0.914727  0.000024   0.000624  0.001058   \n12  19231  0.000254   0.000832  0.953499  0.000022   0.000478  0.001030   \n13  19232  0.085135   0.003461  0.000936  0.000022   0.023447  0.072797   \n14  19233  0.001899   0.007789  0.000757  0.003977   0.024512  0.379379   \n15  19234  0.000865   0.021947  0.001029  0.002828   0.011460  0.418779   \n16  19235  0.037757   0.001937  0.001401  0.000524   0.006872  0.566172   \n17  19236  0.071036   0.024385  0.035857  0.000404   0.207448  0.158737   \n18  19237  0.157859   0.000516  0.000495  0.001406   0.008292  0.560351   \n19  19238  0.000649   0.505577  0.001904  0.002932   0.007139  0.237446   \n\n    Other_Faults  \n0       0.518416  \n1       0.379418  \n2       0.507251  \n3       0.460437  \n4       0.418237  \n5       0.320274  \n6       0.669437  \n7       0.481746  \n8       0.356586  \n9       0.512951  \n10      0.489225  \n11      0.078857  \n12      0.070727  \n13      0.702716  \n14      0.481547  \n15      0.484369  \n16      0.236297  \n17      0.513804  \n18      0.344778  \n19      0.386675  ",
      "text/html": "<div>\n<style scoped>\n    .dataframe tbody tr th:only-of-type {\n        vertical-align: middle;\n    }\n\n    .dataframe tbody tr th {\n        vertical-align: top;\n    }\n\n    .dataframe thead th {\n        text-align: right;\n    }\n</style>\n<table border=\"1\" class=\"dataframe\">\n  <thead>\n    <tr style=\"text-align: right;\">\n      <th></th>\n      <th>id</th>\n      <th>Pastry</th>\n      <th>Z_Scratch</th>\n      <th>K_Scatch</th>\n      <th>Stains</th>\n      <th>Dirtiness</th>\n      <th>Bumps</th>\n      <th>Other_Faults</th>\n    </tr>\n  </thead>\n  <tbody>\n    <tr>\n      <th>0</th>\n      <td>19219</td>\n      <td>0.520010</td>\n      <td>0.000580</td>\n      <td>0.002784</td>\n      <td>0.000023</td>\n      <td>0.025342</td>\n      <td>0.148343</td>\n      <td>0.518416</td>\n    </tr>\n    <tr>\n      <th>1</th>\n      <td>19220</td>\n      <td>0.222039</td>\n      <td>0.012121</td>\n      <td>0.008822</td>\n      <td>0.000152</td>\n      <td>0.226497</td>\n      <td>0.128061</td>\n      <td>0.379418</td>\n    </tr>\n    <tr>\n      <th>2</th>\n      <td>19221</td>\n      <td>0.002159</td>\n      <td>0.034648</td>\n      <td>0.043529</td>\n      <td>0.000145</td>\n      <td>0.011908</td>\n      <td>0.267443</td>\n      <td>0.507251</td>\n    </tr>\n    <tr>\n      <th>3</th>\n      <td>19222</td>\n      <td>0.219907</td>\n      <td>0.000724</td>\n      <td>0.000464</td>\n      <td>0.002410</td>\n      <td>0.029838</td>\n      <td>0.293024</td>\n      <td>0.460437</td>\n    </tr>\n    <tr>\n      <th>4</th>\n      <td>19223</td>\n      <td>0.001741</td>\n      <td>0.000985</td>\n      <td>0.000859</td>\n      <td>0.006861</td>\n      <td>0.010060</td>\n      <td>0.588758</td>\n      <td>0.418237</td>\n    </tr>\n    <tr>\n      <th>5</th>\n      <td>19224</td>\n      <td>0.102078</td>\n      <td>0.287856</td>\n      <td>0.003961</td>\n      <td>0.000029</td>\n      <td>0.020337</td>\n      <td>0.110730</td>\n      <td>0.320274</td>\n    </tr>\n    <tr>\n      <th>6</th>\n      <td>19225</td>\n      <td>0.392781</td>\n      <td>0.000577</td>\n      <td>0.002281</td>\n      <td>0.000035</td>\n      <td>0.027709</td>\n      <td>0.062204</td>\n      <td>0.669437</td>\n    </tr>\n    <tr>\n      <th>7</th>\n      <td>19226</td>\n      <td>0.012998</td>\n      <td>0.203038</td>\n      <td>0.005004</td>\n      <td>0.006750</td>\n      <td>0.057240</td>\n      <td>0.176735</td>\n      <td>0.481746</td>\n    </tr>\n    <tr>\n      <th>8</th>\n      <td>19227</td>\n      <td>0.000553</td>\n      <td>0.195148</td>\n      <td>0.195336</td>\n      <td>0.001164</td>\n      <td>0.005901</td>\n      <td>0.129631</td>\n      <td>0.356586</td>\n    </tr>\n    <tr>\n      <th>9</th>\n      <td>19228</td>\n      <td>0.320727</td>\n      <td>0.024617</td>\n      <td>0.000777</td>\n      <td>0.000027</td>\n      <td>0.002970</td>\n      <td>0.195897</td>\n      <td>0.512951</td>\n    </tr>\n    <tr>\n      <th>10</th>\n      <td>19229</td>\n      <td>0.001315</td>\n      <td>0.026607</td>\n      <td>0.000676</td>\n      <td>0.002407</td>\n      <td>0.025791</td>\n      <td>0.288102</td>\n      <td>0.489225</td>\n    </tr>\n    <tr>\n      <th>11</th>\n      <td>19230</td>\n      <td>0.000226</td>\n      <td>0.001507</td>\n      <td>0.914727</td>\n      <td>0.000024</td>\n      <td>0.000624</td>\n      <td>0.001058</td>\n      <td>0.078857</td>\n    </tr>\n    <tr>\n      <th>12</th>\n      <td>19231</td>\n      <td>0.000254</td>\n      <td>0.000832</td>\n      <td>0.953499</td>\n      <td>0.000022</td>\n      <td>0.000478</td>\n      <td>0.001030</td>\n      <td>0.070727</td>\n    </tr>\n    <tr>\n      <th>13</th>\n      <td>19232</td>\n      <td>0.085135</td>\n      <td>0.003461</td>\n      <td>0.000936</td>\n      <td>0.000022</td>\n      <td>0.023447</td>\n      <td>0.072797</td>\n      <td>0.702716</td>\n    </tr>\n    <tr>\n      <th>14</th>\n      <td>19233</td>\n      <td>0.001899</td>\n      <td>0.007789</td>\n      <td>0.000757</td>\n      <td>0.003977</td>\n      <td>0.024512</td>\n      <td>0.379379</td>\n      <td>0.481547</td>\n    </tr>\n    <tr>\n      <th>15</th>\n      <td>19234</td>\n      <td>0.000865</td>\n      <td>0.021947</td>\n      <td>0.001029</td>\n      <td>0.002828</td>\n      <td>0.011460</td>\n      <td>0.418779</td>\n      <td>0.484369</td>\n    </tr>\n    <tr>\n      <th>16</th>\n      <td>19235</td>\n      <td>0.037757</td>\n      <td>0.001937</td>\n      <td>0.001401</td>\n      <td>0.000524</td>\n      <td>0.006872</td>\n      <td>0.566172</td>\n      <td>0.236297</td>\n    </tr>\n    <tr>\n      <th>17</th>\n      <td>19236</td>\n      <td>0.071036</td>\n      <td>0.024385</td>\n      <td>0.035857</td>\n      <td>0.000404</td>\n      <td>0.207448</td>\n      <td>0.158737</td>\n      <td>0.513804</td>\n    </tr>\n    <tr>\n      <th>18</th>\n      <td>19237</td>\n      <td>0.157859</td>\n      <td>0.000516</td>\n      <td>0.000495</td>\n      <td>0.001406</td>\n      <td>0.008292</td>\n      <td>0.560351</td>\n      <td>0.344778</td>\n    </tr>\n    <tr>\n      <th>19</th>\n      <td>19238</td>\n      <td>0.000649</td>\n      <td>0.505577</td>\n      <td>0.001904</td>\n      <td>0.002932</td>\n      <td>0.007139</td>\n      <td>0.237446</td>\n      <td>0.386675</td>\n    </tr>\n  </tbody>\n</table>\n</div>"
     },
     "execution_count": 11,
     "metadata": {},
     "output_type": "execute_result"
    }
   ],
   "source": [
    "xgb = XGBClassifier(**best_cls_params)\n",
    "scaler = StandardScaler()\n",
    "train_data = scaler.fit_transform(train_data)\n",
    "test_data = scaler.transform(test_data)\n",
    "xgb.fit(train_data,y)\n",
    "predictions = xgb.predict_proba(test_data)\n",
    "print(predictions)\n",
    "submission = pd.read_csv('data/sample_submission.csv')\n",
    "submission_df = pd.DataFrame(columns=['id', \"Pastry\", \"Z_Scratch\", \"K_Scatch\", \"Stains\", \"Dirtiness\", \"Bumps\", \"Other_Faults\"])\n",
    "submission_df['id'] = submission[\"id\"]\n",
    "submission_df[[\"Pastry\", \"Z_Scratch\", \"K_Scatch\", \"Stains\", \"Dirtiness\", \"Bumps\", \"Other_Faults\"]] = predictions\n",
    "submission_df.to_csv('submissions.csv', header=True, index=False)\n",
    "submission_df.head(20)\n"
   ],
   "metadata": {
    "collapsed": false,
    "ExecuteTime": {
     "end_time": "2024-04-07T10:41:58.921676Z",
     "start_time": "2024-04-07T10:41:54.380687Z"
    }
   },
   "id": "b2f1665e3a6f6154",
   "execution_count": 11
  },
  {
   "cell_type": "code",
   "outputs": [],
   "source": [],
   "metadata": {
    "collapsed": false,
    "ExecuteTime": {
     "end_time": "2024-04-07T10:41:58.924948Z",
     "start_time": "2024-04-07T10:41:58.923198Z"
    }
   },
   "id": "eb7c67fa190178ee",
   "execution_count": 11
  }
 ],
 "metadata": {
  "kernelspec": {
   "display_name": "Python 3",
   "language": "python",
   "name": "python3"
  },
  "language_info": {
   "codemirror_mode": {
    "name": "ipython",
    "version": 2
   },
   "file_extension": ".py",
   "mimetype": "text/x-python",
   "name": "python",
   "nbconvert_exporter": "python",
   "pygments_lexer": "ipython2",
   "version": "2.7.6"
  }
 },
 "nbformat": 4,
 "nbformat_minor": 5
}
